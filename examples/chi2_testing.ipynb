{
 "cells": [
  {
   "cell_type": "code",
   "execution_count": 1,
   "metadata": {},
   "outputs": [],
   "source": [
    "import astropy.units as u\n",
    "import numpy as np\n",
    "from numpy.lib.recfunctions import structured_to_unstructured\n",
    "from BDFit import StarFit\n",
    "from astropy.table import Table\n",
    "import fnmatch"
   ]
  },
  {
   "cell_type": "markdown",
   "metadata": {},
   "source": [
    "## Introduction\n",
    "Here we are initializing the primary StarFit class. By default all models are included, and an internal filter list of JWST, HST, Euclid and VISTA filters have been pre-computed.\n",
    "\n",
    "Any SVO compatible filter can be added easily, by adding the facility and instrument name to the 'facilities_to_search' argument, and adding the filter name to the 'compile_bands' list.\n",
    "\n",
    "If you want to add filters, or recompute with a different wavelength grid, you can set the following arguments:\n",
    "- 'resample_step' - the wavelength spacing in Angstrom in the wavelength grid\n",
    "- 'constant_R' - if False, the resolution of the models will be kept constant with wavelength. If True, the wavelength grid will be resampled to a constant resolution of 'R'.\n",
    "- 'R' - the resolution to resample to if 'constant_R' is True.\n",
    "- 'min_wav' - the minimum wavelength to consider in the wavelength grid - default is 0.3 microns.\n",
    "- 'max_wav' - the maximum wavelength to consider in the wavelength grid - default is 8 microns."
   ]
  },
  {
   "cell_type": "markdown",
   "metadata": {},
   "source": [
    "If you do recompile, the code will download and unpack all neccessary files from Zenodo/DataVerse, and compile the models. This can take a while, so be patient. The base models are very high resolution, and will total a few hundred GB. You can remove the downloaded files after compilation if you wish."
   ]
  },
  {
   "cell_type": "code",
   "execution_count": 2,
   "metadata": {},
   "outputs": [
    {
     "name": "stdout",
     "output_type": "stream",
     "text": [
      "Library path: /nvme/scratch/work/austind/BD-Finder/models\n",
      "Warning! F410M found in multiple instruments. Keeping first, which is NIRCam. Provide instrument.band in dictionary to override this.\n",
      "Total models: 49212\n"
     ]
    }
   ],
   "source": [
    "s = StarFit(verbose=True)"
   ]
  },
  {
   "cell_type": "markdown",
   "metadata": {},
   "source": [
    "The fitting is designed to be flexible to your catalogue. I'm just setting up some functions here to read in my catalogue, and list the filters."
   ]
  },
  {
   "cell_type": "code",
   "execution_count": 3,
   "metadata": {},
   "outputs": [],
   "source": [
    "def find_bands(table, flux_wildcard='FLUX_APER_*_aper_corr'):#, error_wildcard='FLUXERR_APER_*_loc_depth'):\n",
    "    # glob-like matching for column names\n",
    "    flux_columns = fnmatch.filter(table.colnames, flux_wildcard)\n",
    "    # get the band names from the column names\n",
    "    flux_split = flux_wildcard.split('*')\n",
    "    flux_bands = [col.replace(flux_split[0], '').replace(flux_split[1], '') for col in flux_columns]\n",
    "    return flux_bands\n",
    "\n",
    "def provide_phot(table, bands=None, flux_wildcard='FLUX_APER_*_aper_corr_Jy', error_wildcard='FLUXERR_APER_*_loc_depth_10pc_Jy', min_percentage_error=0.1, flux_unit=u.Jy, multi_item_columns_slice=None):\n",
    "    \n",
    "    if bands is None:\n",
    "        bands = find_bands(table)\n",
    "\n",
    "    flux_columns = [flux_wildcard.replace('*', band) for band in bands]\n",
    "    error_columns = [error_wildcard.replace('*', band) for band in bands]\n",
    "\n",
    "    assert all([col in table.colnames for col in flux_columns]), f'Flux columns {flux_columns} not found in table'\n",
    "    assert all([col in table.colnames for col in error_columns]), f'Error columns {error_columns} not found in table'\n",
    "\n",
    "    if multi_item_columns_slice is not None:\n",
    "        raise NotImplementedError('Do this I guess.')\n",
    "\n",
    "    fluxes = structured_to_unstructured(table[flux_columns].as_array()) * flux_unit\n",
    "    errors = structured_to_unstructured(table[error_columns].as_array()) * flux_unit\n",
    "\n",
    "    mask = ((errors / fluxes) < min_percentage_error) & (fluxes > 0)\n",
    "    errors[mask] = fluxes[mask] * min_percentage_error\n",
    "\n",
    "    return fluxes, errors"
   ]
  },
  {
   "cell_type": "markdown",
   "metadata": {},
   "source": [
    "Here we run the actual fit - fit_catalog takes a provide_phot function, which should return a flux, flux_err tuple, where the flux/flux_err arrays\n",
    "have shape (ngalaxies, nfilters). The fit_catalog function will return a dictionary of the best fit parameters, and the chi-squared values.\n",
    "\n",
    "The flux/err arrays should be astropy.Quantity objects, which will handle any flux unit conversions. \n",
    "\n",
    "The band names should match our band names. These can be printed as 's.model_filters'\n",
    "\n",
    "#### Important Note! It is fine if the template library has more filters than your data - the fit will only use the filters that are present in both the data and the library."
   ]
  },
  {
   "cell_type": "code",
   "execution_count": 4,
   "metadata": {},
   "outputs": [
    {
     "name": "stderr",
     "output_type": "stream",
     "text": [
      "WARNING: hdu= was not specified but multiple tables are present, reading in first available table (hdu=1) [astropy.io.fits.connect]\n"
     ]
    },
    {
     "name": "stdout",
     "output_type": "stream",
     "text": [
      "Warning! Assuming F435W is the same as ACS_WFC.F435W\n",
      "Warning! Assuming F606W is the same as ACS_WFC.F606W\n",
      "Warning! Assuming F775W is the same as ACS_WFC.F775W\n",
      "Warning! Assuming F814W is the same as ACS_WFC.F814W\n",
      "Warning! Assuming F850LP is the same as ACS_WFC.F850LP\n",
      "Warning! Minimum wavelength of library sonora_bobcat is greater than minimum wavelength of bands to fit. 0.40 um > 0.39 um\n",
      "Warning! Minimum wavelength of library sonora_elf_owl is greater than minimum wavelength of bands to fit. 0.60 um > 0.39 um\n",
      "Clipping bands to fit to the wavelength range of the library.\n",
      "Fitting with sonora_bobcat, sonora_cholla, sonora_elf_owl, sonora_diamondback, low-z libraries with 43 templates.\n",
      "Fitting 17 bands: ['ACS_WFC.F775W', 'ACS_WFC.F814W', 'ACS_WFC.F850LP', 'F090W', 'F115W', 'F150W', 'F162M', 'F182M', 'F200W', 'F210M', 'F250M', 'F277W', 'F300M', 'F335M', 'F356W', 'F410M', 'F444W']\n"
     ]
    },
    {
     "ename": "IndexError",
     "evalue": "index 19 is out of bounds for axis 1 with size 19",
     "output_type": "error",
     "traceback": [
      "\u001b[0;31m---------------------------------------------------------------------------\u001b[0m",
      "\u001b[0;31mIndexError\u001b[0m                                Traceback (most recent call last)",
      "Cell \u001b[0;32mIn[4], line 5\u001b[0m\n\u001b[1;32m      2\u001b[0m table \u001b[38;5;241m=\u001b[39m Table\u001b[38;5;241m.\u001b[39mread(catalog)\n\u001b[1;32m      3\u001b[0m bands \u001b[38;5;241m=\u001b[39m find_bands(table, flux_wildcard\u001b[38;5;241m=\u001b[39m\u001b[38;5;124m'\u001b[39m\u001b[38;5;124mFLUX_APER_*_aper_corr_Jy\u001b[39m\u001b[38;5;124m'\u001b[39m)\n\u001b[0;32m----> 5\u001b[0m \u001b[43ms\u001b[49m\u001b[38;5;241;43m.\u001b[39;49m\u001b[43mfit_catalog\u001b[49m\u001b[43m(\u001b[49m\u001b[43mprovide_phot\u001b[49m\u001b[43m,\u001b[49m\u001b[43m \u001b[49m\u001b[43mphotometry_function_kwargs\u001b[49m\u001b[38;5;241;43m=\u001b[39;49m\u001b[43m{\u001b[49m\u001b[38;5;124;43m'\u001b[39;49m\u001b[38;5;124;43mtable\u001b[39;49m\u001b[38;5;124;43m'\u001b[39;49m\u001b[43m:\u001b[49m\u001b[43m \u001b[49m\u001b[43mtable\u001b[49m\u001b[43m}\u001b[49m\u001b[43m,\u001b[49m\u001b[43m \u001b[49m\u001b[43mbands\u001b[49m\u001b[38;5;241;43m=\u001b[39;49m\u001b[43mbands\u001b[49m\u001b[43m,\u001b[49m\u001b[43m \u001b[49m\u001b[43mdump_fit_results\u001b[49m\u001b[38;5;241;43m=\u001b[39;49m\u001b[38;5;28;43;01mTrue\u001b[39;49;00m\u001b[43m,\u001b[49m\u001b[43m \u001b[49m\u001b[43mdump_fit_results_path\u001b[49m\u001b[38;5;241;43m=\u001b[39;49m\u001b[38;5;124;43m'\u001b[39;49m\u001b[38;5;124;43mfit_results.pkl\u001b[39;49m\u001b[38;5;124;43m'\u001b[39;49m\u001b[43m)\u001b[49m\n",
      "File \u001b[0;32m/nvme/scratch/work/austind/BD-Finder/src/BDFit/StarFit.py:1285\u001b[0m, in \u001b[0;36mStarFit.fit_catalog\u001b[0;34m(self, photometry_function, bands, photometry_function_kwargs, libraries_to_fit, sys_err, filter_mask, subset, fnu, efnu, catalogue_ids, dump_fit_results, dump_fit_results_path, outside_wav_range_behaviour)\u001b[0m\n\u001b[1;32m   1282\u001b[0m \u001b[38;5;28mprint\u001b[39m(\u001b[38;5;124mf\u001b[39m\u001b[38;5;124m'\u001b[39m\u001b[38;5;124mFitting \u001b[39m\u001b[38;5;132;01m{\u001b[39;00m\u001b[38;5;28mlen\u001b[39m(fitted_bands)\u001b[38;5;132;01m}\u001b[39;00m\u001b[38;5;124m bands: \u001b[39m\u001b[38;5;132;01m{\u001b[39;00mfitted_bands\u001b[38;5;132;01m}\u001b[39;00m\u001b[38;5;124m'\u001b[39m)\n\u001b[1;32m   1284\u001b[0m \u001b[38;5;28mself\u001b[39m\u001b[38;5;241m.\u001b[39mNFILT \u001b[38;5;241m=\u001b[39m \u001b[38;5;28mlen\u001b[39m(fitted_bands)\n\u001b[0;32m-> 1285\u001b[0m \u001b[38;5;28mself\u001b[39m\u001b[38;5;241m.\u001b[39mfnu \u001b[38;5;241m=\u001b[39m \u001b[38;5;28;43mself\u001b[39;49m\u001b[38;5;241;43m.\u001b[39;49m\u001b[43mfnu\u001b[49m\u001b[43m[\u001b[49m\u001b[43m:\u001b[49m\u001b[43m,\u001b[49m\u001b[43m \u001b[49m\u001b[43midxs\u001b[49m\u001b[43m]\u001b[49m\n\u001b[1;32m   1286\u001b[0m \u001b[38;5;28mself\u001b[39m\u001b[38;5;241m.\u001b[39mefnu \u001b[38;5;241m=\u001b[39m \u001b[38;5;28mself\u001b[39m\u001b[38;5;241m.\u001b[39mefnu[:, idxs]\n\u001b[1;32m   1287\u001b[0m \u001b[38;5;28mself\u001b[39m\u001b[38;5;241m.\u001b[39mzp \u001b[38;5;241m=\u001b[39m np\u001b[38;5;241m.\u001b[39mones_like(\u001b[38;5;28mself\u001b[39m\u001b[38;5;241m.\u001b[39mfnu)\n",
      "\u001b[0;31mIndexError\u001b[0m: index 19 is out of bounds for axis 1 with size 19"
     ]
    }
   ],
   "source": [
    "catalog = '/raid/scratch/work/austind/GALFIND_WORK/Catalogues/v11/ACS_WFC+NIRCam/JOF/(0.32)as/JOF_MASTER_Sel-F277W+F356W+F444W_v11.fits'\n",
    "table = Table.read(catalog)\n",
    "bands = find_bands(table, flux_wildcard='FLUX_APER_*_aper_corr_Jy')\n",
    "\n",
    "s.fit_catalog(provide_phot, photometry_function_kwargs={'table': table}, bands=bands, dump_fit_results=True, dump_fit_results_path='fit_results.pkl');"
   ]
  },
  {
   "cell_type": "markdown",
   "metadata": {},
   "source": [
    "Here we plot the best fit and residuals for the galaxy at position 45693 in the catalogue. The plotting is flexible, and you can change the plot parameters as you wish."
   ]
  },
  {
   "cell_type": "markdown",
   "metadata": {},
   "source": [
    "If we have already run a fit and saved the results, we can load the results and plot them. This is useful if you want to compare different fits, or if you want to plot the results on a different machine."
   ]
  },
  {
   "cell_type": "code",
   "execution_count": 5,
   "metadata": {},
   "outputs": [],
   "source": [
    "s.load_results_from_pickle('fit_results.pkl')"
   ]
  },
  {
   "cell_type": "code",
   "execution_count": null,
   "metadata": {},
   "outputs": [],
   "source": [
    "fig, ax = s.plot_fit(1042, flux_unit=u.ABmag)\n",
    "ax[0].set_xlim(0.6, 5.0)\n",
    "ax[0].set_ylim(30., 27.5)\n",
    "#ax[0].set_ylim\n",
    "# 45693"
   ]
  },
  {
   "cell_type": "markdown",
   "metadata": {},
   "source": [
    "We can see what parameters each model is split by, and filter by them to fit only a subset of templates - or color our plot by type, effective temperature etc. "
   ]
  },
  {
   "cell_type": "code",
   "execution_count": null,
   "metadata": {},
   "outputs": [],
   "source": [
    "print(s.model_parameters['sonora_diamondback'].keys())"
   ]
  },
  {
   "cell_type": "markdown",
   "metadata": {},
   "source": [
    "Here is an example of generating a color-color plot from the template library, to look at the distribution of the models in a color-color space.\n",
    "Any scaling of one or more filters (e.g (F356W - F410M)/F200W) can be interpreted via the x and y arguments."
   ]
  },
  {
   "cell_type": "code",
   "execution_count": null,
   "metadata": {},
   "outputs": [],
   "source": [
    "s.color_color(x='F150W - F444W', y = 'F150W - F277W', s = 0.1, show_fitted_galaxies=True)"
   ]
  },
  {
   "cell_type": "markdown",
   "metadata": {},
   "source": [
    "I would also like to highlight some non-obvious features of the code:\n",
    "\n",
    "The wavelength range of the model grids differ between models, but some are not defined until the near-IR. As such, photometry in optical bands (e.g. F435W) is not available for all templates. The default behaviour is to ignore these filters, but you can change this with the 'outside_wav_range_behaviour' argument of the fit_catalog function. The other option is to only fit the subset of models that have photometry in the fitted filters, but this will limit the number of models available for fitting."
   ]
  },
  {
   "cell_type": "markdown",
   "metadata": {},
   "source": [
    "I've included a scenario with this situation below to demonstrate the behaviour. (It also shows the option to directly pass in the flux and flux_err arrays, rather than using a function to provide them.)"
   ]
  },
  {
   "cell_type": "code",
   "execution_count": null,
   "metadata": {},
   "outputs": [],
   "source": [
    "photometry = [0.0, 1., 1., 1., 2., 3.] * u.uJy\n",
    "errors = [0.1, 0.1, 0.1, 0.1, 0.1, 0.1] * u.uJy\n",
    "\n",
    "bands = ['F435W', 'F606W', 'F775W', 'F850LP', 'F105W', 'F125W']\n",
    "\n",
    "results = s.fit_catalog(bands=bands, fnu=photometry, efnu=errors, outside_wav_range_behaviour='clip')\n"
   ]
  },
  {
   "cell_type": "markdown",
   "metadata": {},
   "source": [
    "If you want to know which template fitted best, you can simply do "
   ]
  },
  {
   "cell_type": "code",
   "execution_count": null,
   "metadata": {},
   "outputs": [],
   "source": [
    "s.get_template_name(9977)"
   ]
  },
  {
   "cell_type": "markdown",
   "metadata": {},
   "source": [
    "We also support distance calculations for some of the models, based on the template normalization. This is a work in progress, and we are working on adding more models to this feature."
   ]
  }
 ],
 "metadata": {
  "kernelspec": {
   "display_name": "more_and_more_galfind",
   "language": "python",
   "name": "python3"
  },
  "language_info": {
   "codemirror_mode": {
    "name": "ipython",
    "version": 3
   },
   "file_extension": ".py",
   "mimetype": "text/x-python",
   "name": "python",
   "nbconvert_exporter": "python",
   "pygments_lexer": "ipython3",
   "version": "3.9.20"
  }
 },
 "nbformat": 4,
 "nbformat_minor": 2
}
