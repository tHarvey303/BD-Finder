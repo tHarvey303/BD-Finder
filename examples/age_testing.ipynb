{
 "cells": [
  {
   "cell_type": "code",
   "execution_count": 1,
   "metadata": {},
   "outputs": [],
   "source": [
    "import astropy.units as u\n",
    "import numpy as np\n",
    "from numpy.lib.recfunctions import structured_to_unstructured\n",
    "from BDFit import StarFit\n",
    "from astropy.table import Table\n",
    "import fnmatch"
   ]
  },
  {
   "cell_type": "code",
   "execution_count": 2,
   "metadata": {},
   "outputs": [
    {
     "name": "stdout",
     "output_type": "stream",
     "text": [
      "Library path: /nvme/scratch/work/tharvey/brown_dwarfs/models\n",
      "Warning! F410M found in multiple instruments. Keeping first, which is NIRCam. Provide instrument.band in dictionary to override this.\n",
      "Total models: 49212\n"
     ]
    }
   ],
   "source": [
    "s = StarFit()"
   ]
  },
  {
   "cell_type": "code",
   "execution_count": 3,
   "metadata": {},
   "outputs": [
    {
     "name": "stdout",
     "output_type": "stream",
     "text": [
      "sonora_bobcat_evolution files not found. Downloading from Zenodo.\n"
     ]
    },
    {
     "name": "stderr",
     "output_type": "stream",
     "text": [
      "Downloading evolution_and_photometery.tar.gz: 117KB [00:00, 704.86KB/s]\n"
     ]
    },
    {
     "name": "stdout",
     "output_type": "stream",
     "text": [
      "Downloaded: evolution_and_photometery.tar.gz\n",
      "sonora_bobcat_evolution raw files found.\n",
      "sonora_diamondback_evolution files not found. Downloading from Zenodo.\n"
     ]
    },
    {
     "name": "stderr",
     "output_type": "stream",
     "text": [
      "Downloading evolution.zip: 104KB [00:00, 318.84KB/s]\n"
     ]
    },
    {
     "name": "stdout",
     "output_type": "stream",
     "text": [
      "Downloaded: evolution.zip\n",
      "sonora_diamondback_evolution raw files found.\n"
     ]
    }
   ],
   "source": [
    "evolution_tables = {'sonora_bobcat_evolution':[\"https://zenodo.org/records/5063476/files/evolution_and_photometery.tar.gz?download=1\"],\n",
    "                    'sonora_diamondback_evolution':['https://zenodo.org/records/12735103/files/evolution.zip?download=1']}\n",
    "\n",
    "s.setup_libraries(path='../models/', urls=evolution_tables, libraries=['sonora_bobcat_evolution', 'sonora_diamondback_evolution'])"
   ]
  },
  {
   "cell_type": "markdown",
   "metadata": {},
   "source": [
    "# Sonor\n",
    "# We have flux_table_JWST_m+0.0_co0.5 and flux_table_JWST_m+0.0_co1.5\n",
    "# and flux_table_JWST_m-0.5, flux_table_JWST+0.0, flux_table_JWST-0.5\n",
    "\n",
    "# which"
   ]
  }
 ],
 "metadata": {
  "kernelspec": {
   "display_name": "Python 3",
   "language": "python",
   "name": "python3"
  },
  "language_info": {
   "codemirror_mode": {
    "name": "ipython",
    "version": 3
   },
   "file_extension": ".py",
   "mimetype": "text/x-python",
   "name": "python",
   "nbconvert_exporter": "python",
   "pygments_lexer": "ipython3",
   "version": "3.10.4"
  }
 },
 "nbformat": 4,
 "nbformat_minor": 2
}
